{
  "nbformat": 4,
  "nbformat_minor": 0,
  "metadata": {
    "colab": {
      "provenance": []
    },
    "kernelspec": {
      "name": "python3",
      "display_name": "Python 3"
    },
    "language_info": {
      "name": "python"
    }
  },
  "cells": [
    {
      "cell_type": "code",
      "source": [
        "import numpy as np\n",
        "from scipy.optimize import minimize\n",
        "from numpy.linalg import inv\n",
        "\n",
        "# Estimation of heat capacity using Bayes\n",
        "np.random.seed(0)\n",
        "\n",
        "# Generate data (true model is Cp = a0 + a1*T + a2*T^2)\n",
        "a0 = 6.190\n",
        "a1 = 0.02923\n",
        "a2 = -0.0000007052\n",
        "theta = np.array([a0, a1, a2])\n",
        "\n",
        "# 3 sets of experiments at T=300K, T=600K, and T=900K\n",
        "n = 20\n",
        "N = 3 * n\n",
        "x1 = np.linspace(300, 300, n)\n",
        "x2 = np.linspace(600, 600, n)\n",
        "x3 = np.linspace(900, 900, n)\n",
        "x = np.concatenate((x1, x2, x3))\n",
        "\n",
        "# Generate true outputs\n",
        "y1 = a0 + a1*x1 + a2*x1**2\n",
        "y2 = a0 + a1*x2 + a2*x2**2\n",
        "y3 = a0 + a1*x3 + a2*x3**2\n",
        "ytrue = np.concatenate((y1, y2, y3))\n",
        "\n",
        "# Add random noise to true outputs\n",
        "sigma = 0.1\n",
        "y = ytrue + np.random.normal(0, sigma, N)\n",
        "\n",
        "# Construct input and output data matrix\n",
        "xsq = x**2\n",
        "X = np.column_stack((np.ones(N), x, xsq))\n",
        "Y = y\n",
        "\n",
        "# Shuffle data\n",
        "idxS = np.random.permutation(N)\n",
        "X = X[idxS, :]\n",
        "Y = Y[idxS]\n",
        "\n",
        "\n"
      ],
      "metadata": {
        "id": "OypotVIXHHCr"
      },
      "execution_count": 2,
      "outputs": []
    },
    {
      "cell_type": "code",
      "source": [
        "# Formulate Bayesian estimation problem (full data)\n",
        "Sigy = np.eye(N) * sigma**2\n",
        "Sigp = np.eye(3)\n",
        "thp = np.ones(3)\n",
        "\n",
        "dat = {\n",
        "    'Sigy': Sigy,\n",
        "    'Sigp': Sigp,\n",
        "    'thp': thp,\n",
        "    'X': X,\n",
        "    'Y': Y,\n",
        "    'flag': 0  # ignores prior\n",
        "}\n",
        "\n",
        "# Define objective function\n",
        "def myfun(th, dat):\n",
        "    X = dat['X']\n",
        "    Y = dat['Y']\n",
        "    Sigy = dat['Sigy']\n",
        "    Sigp = dat['Sigp']\n",
        "    thp = dat['thp']\n",
        "    flag = dat['flag']\n",
        "\n",
        "    Yhat = X @ th\n",
        "    like = 0.5 * ((Yhat - Y).T @ inv(Sigy) @ (Yhat - Y))\n",
        "    prior = 0.5 * ((th - thp).T @ inv(Sigp) @ (th - thp))\n",
        "\n",
        "    return like + flag * prior\n",
        "\n",
        "# Solve problem\n",
        "options = {'disp': False}\n",
        "res = minimize(myfun, np.ones(3), args=(dat,), options=options)\n",
        "thp = res.x\n",
        "\n",
        "# Evaluate fit on full dataset\n",
        "def msefun(theta, X, Y):\n",
        "    Yhat = X @ theta\n",
        "    return np.mean((Yhat - Y) ** 2)\n",
        "\n",
        "MSE = msefun(thp, X, Y)\n",
        "\n",
        "# Covariance of estimates\n",
        "Sigp = inv(X.T @ inv(Sigy) @ X + inv(Sigp))\n",
        "\n",
        "print(Sigp)"
      ],
      "metadata": {
        "colab": {
          "base_uri": "https://localhost:8080/"
        },
        "id": "GwxN28i3HSK7",
        "outputId": "c87dad9b-9d20-4a5d-ed79-dc984189b3a5"
      },
      "execution_count": 4,
      "outputs": [
        {
          "output_type": "stream",
          "name": "stdout",
          "text": [
            "[[ 9.41059810e-03 -3.46706243e-05  2.75163684e-08]\n",
            " [-3.46706243e-05  1.34897621e-07 -1.10148023e-10]\n",
            " [ 2.75163684e-08 -1.10148023e-10  9.18282368e-14]]\n"
          ]
        }
      ]
    },
    {
      "cell_type": "code",
      "source": [
        "# Now do recursively\n",
        "S = 20  # batch size\n",
        "Sigy = np.eye(S) * sigma**2\n",
        "Sigp = np.eye(3)\n",
        "thp = np.ones(3)\n",
        "\n",
        "for k in range(N // S):\n",
        "    dat['Sigy'] = Sigy\n",
        "    dat['Sigp'] = Sigp\n",
        "    dat['thp'] = thp\n",
        "    dat['flag'] = 1\n",
        "\n",
        "    in_idx = k * S\n",
        "    out_idx = in_idx + S\n",
        "\n",
        "    dat['X'] = X[in_idx:out_idx, :]\n",
        "    dat['Y'] = Y[in_idx:out_idx]\n",
        "\n",
        "    res = minimize(myfun, np.ones(3), args=(dat,), options=options)\n",
        "    thp = res.x\n",
        "\n",
        "    Sigp = inv(dat['X'].T @ inv(Sigy) @ dat['X'] + inv(Sigp))\n",
        "    print(Sigp)\n",
        "\n",
        "    MSE = msefun(thp, X, Y)"
      ],
      "metadata": {
        "colab": {
          "base_uri": "https://localhost:8080/"
        },
        "id": "RJGDrzj6HbUo",
        "outputId": "e89f0ed0-cc56-4fc0-97a8-6109736e3c88"
      },
      "execution_count": 5,
      "outputs": [
        {
          "output_type": "stream",
          "name": "stdout",
          "text": [
            "[[ 3.11083289e-02 -1.18170123e-04  9.43899948e-08]\n",
            " [-1.18170123e-04  4.71599141e-07 -3.85643689e-10]\n",
            " [ 9.43899948e-08 -3.85643689e-10  3.20389852e-13]]\n",
            "[[ 1.48654251e-02 -5.50664847e-05  4.36434165e-08]\n",
            " [-5.50664847e-05  2.15155496e-07 -1.75148251e-10]\n",
            " [ 4.36434165e-08 -1.75148251e-10  1.45264959e-13]]\n",
            "[[ 9.41059810e-03 -3.46706243e-05  2.75163684e-08]\n",
            " [-3.46706243e-05  1.34897621e-07 -1.10148023e-10]\n",
            " [ 2.75163684e-08 -1.10148023e-10  9.18282368e-14]]\n"
          ]
        }
      ]
    },
    {
      "cell_type": "code",
      "source": [],
      "metadata": {
        "id": "9hZ2_4rTHjCL"
      },
      "execution_count": null,
      "outputs": []
    }
  ]
}