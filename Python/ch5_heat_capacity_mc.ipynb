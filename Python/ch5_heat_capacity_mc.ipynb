{
  "nbformat": 4,
  "nbformat_minor": 0,
  "metadata": {
    "colab": {
      "provenance": []
    },
    "kernelspec": {
      "name": "python3",
      "display_name": "Python 3"
    },
    "language_info": {
      "name": "python"
    }
  },
  "cells": [
    {
      "cell_type": "code",
      "execution_count": 1,
      "metadata": {
        "id": "AwrrGvbSKCiR"
      },
      "outputs": [],
      "source": [
        "import numpy as np\n",
        "\n",
        "# Generate data (true model is Cp = a0 + a1*T + a2*T^2)\n",
        "# CP in cal/mol-K and T in K\n",
        "a0 = 6.190\n",
        "a1 = 0.02923\n",
        "a2 = -0.0000007052\n",
        "theta = np.array([a0, a1, a2])\n",
        "\n",
        "# 3 sets of experiments at T = 300K, T = 600K, and T = 900K\n",
        "n = 10\n",
        "N = 3 * n\n",
        "x1 = np.linspace(300, 300, n)\n",
        "x2 = np.linspace(600, 600, n)\n",
        "x3 = np.linspace(900, 900, n)\n",
        "x = np.concatenate((x1, x2, x3))\n",
        "\n",
        "# Generate true outputs\n",
        "np.random.seed(0)\n",
        "y1 = a0 + a1 * x1 + a2 * x1**2\n",
        "y2 = a0 + a1 * x2 + a2 * x2**2\n",
        "y3 = a0 + a1 * x3 + a2 * x3**2\n",
        "ytrue = np.concatenate((y1, y2, y3))\n",
        "\n",
        "# Add random noise to true outputs\n",
        "sigma = 0.1\n",
        "y = ytrue + np.random.normal(0, sigma, N)\n",
        "\n",
        "# Solve linear estimation problem and get exact param covariance\n",
        "xsq = x**2\n",
        "X = np.column_stack((np.ones(N), x, xsq))\n",
        "Y = y\n",
        "\n",
        "\n"
      ]
    },
    {
      "cell_type": "code",
      "source": [
        "# Solve estimation problem\n",
        "thetaest = np.linalg.inv(X.T @ X) @ X.T @ Y\n",
        "\n",
        "# Get model predictions\n",
        "Yhat = X @ thetaest\n",
        "\n",
        "# Get residuals\n",
        "e = Y - Yhat\n",
        "\n",
        "# Obtain estimate of noise variance\n",
        "sig2 = np.var(e)\n",
        "\n",
        "# Get exact covariance matrix for parameters\n",
        "C = np.linalg.inv(X.T @ X) * sig2\n",
        "\n",
        "# Obtain exact covariance with Monte Carlo\n",
        "K = 100  # Repeat estimation 100 times\n",
        "th = np.zeros((3, K))\n",
        "\n",
        "for k in range(K):\n",
        "    # Perturb the output data with random noise\n",
        "    yp = y + np.random.normal(0, np.sqrt(sig2), N)\n",
        "    Y = yp\n",
        "\n",
        "    # Solve estimation problem\n",
        "    th[:, k] = np.linalg.inv(X.T @ X) @ X.T @ Y\n",
        "\n",
        "# Sample covariance\n",
        "thmean = np.mean(th, axis=1)\n",
        "Cest = np.zeros((3, 3))\n",
        "\n",
        "for k in range(K):\n",
        "    Cest += np.outer(th[:, k] - thmean, th[:, k] - thmean)\n",
        "\n",
        "Cest /= K\n",
        "\n",
        "# Compare with exact\n",
        "print(\"Exact covariance matrix C:\\n\", C)\n",
        "print(\"Estimated covariance matrix Cest:\\n\", Cest)"
      ],
      "metadata": {
        "colab": {
          "base_uri": "https://localhost:8080/"
        },
        "id": "B7cSGbFeKTOG",
        "outputId": "902fd8cb-85bc-488f-e722-d80dad774f8d"
      },
      "execution_count": 2,
      "outputs": [
        {
          "output_type": "stream",
          "name": "stdout",
          "text": [
            "Exact covariance matrix C:\n",
            " [[ 2.12686229e-02 -7.83580843e-05  6.21889558e-08]\n",
            " [-7.83580843e-05  3.04725883e-07 -2.48755823e-10]\n",
            " [ 6.21889558e-08 -2.48755823e-10  2.07296519e-13]]\n",
            "Estimated covariance matrix Cest:\n",
            " [[ 2.20238515e-02 -8.19726939e-05  6.57228733e-08]\n",
            " [-8.19726939e-05  3.18257767e-07 -2.61092770e-10]\n",
            " [ 6.57228733e-08 -2.61092770e-10  2.18094656e-13]]\n"
          ]
        }
      ]
    },
    {
      "cell_type": "code",
      "source": [],
      "metadata": {
        "id": "70dzlaI-KXCg"
      },
      "execution_count": null,
      "outputs": []
    }
  ]
}